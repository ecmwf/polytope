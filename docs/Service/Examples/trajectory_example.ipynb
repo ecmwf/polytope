{
 "cells": [
  {
   "cell_type": "markdown",
   "metadata": {},
   "source": [
    "# Trajectory Example"
   ]
  },
  {
   "cell_type": "code",
   "execution_count": null,
   "metadata": {},
   "outputs": [],
   "source": [
    "import earthkit.data\n",
    "\n",
    "request = {\n",
    "    \"class\": \"od\",\n",
    "    \"stream\" : \"enfo\",\n",
    "    \"type\" : \"pf\",\n",
    "    \"date\" : \"20241103\",\n",
    "    \"time\" : \"0000\",\n",
    "    \"levtype\" : \"sfc\",\n",
    "    \"expver\" : \"0079\", \n",
    "    \"domain\" : \"g\",\n",
    "    \"param\" : \"164/166/167/169\",\n",
    "    \"number\" : \"1\",\n",
    "    \"step\": \"0\",\n",
    "    \"feature\" : {\n",
    "        \"type\" : \"trajectory\",\n",
    "        \"points\" : [[-0.1, -0.1], [0, 0], [0.1, 0.1]],\n",
    "        \"padding\" : 0.1,\n",
    "        \"axis\" :[\"latitude\", \"longitude\"],\n",
    "\t},\n",
    "}\n",
    "\n",
    "ds = earthkit.data.from_source(\"polytope\", \"ecmwf-mars\", request, stream=False, address='polytope-test.ecmwf.int')"
   ]
  },
  {
   "cell_type": "markdown",
   "metadata": {},
   "source": [
    "## Convert to xarray"
   ]
  },
  {
   "cell_type": "code",
   "execution_count": null,
   "metadata": {},
   "outputs": [],
   "source": [
    "da = ds.to_xarray()\n",
    "da"
   ]
  },
  {
   "cell_type": "code",
   "execution_count": null,
   "metadata": {},
   "outputs": [],
   "source": []
  }
 ],
 "metadata": {
  "kernelspec": {
   "display_name": "polytope_venv",
   "language": "python",
   "name": "python3"
  },
  "language_info": {
   "codemirror_mode": {
    "name": "ipython",
    "version": 3
   },
   "file_extension": ".py",
   "mimetype": "text/x-python",
   "name": "python",
   "nbconvert_exporter": "python",
   "pygments_lexer": "ipython3",
   "version": "3.11.8"
  }
 },
 "nbformat": 4,
 "nbformat_minor": 2
}
